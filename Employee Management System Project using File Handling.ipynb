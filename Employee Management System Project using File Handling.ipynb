{
 "cells": [
  {
   "cell_type": "code",
   "execution_count": null,
   "id": "76dc2961",
   "metadata": {},
   "outputs": [
    {
     "name": "stdout",
     "output_type": "stream",
     "text": [
      "Employee Management System\n",
      "1. Add Employee\n",
      "2. View Employees\n",
      "3. Search Employee\n",
      "4. Exit\n"
     ]
    }
   ],
   "source": [
    "from colorama import Fore, Back, Style, init\n",
    "\n",
    "def Add():\n",
    "    how_many = int(input(\"Enter How many You want to ADD>>\"))\n",
    "    i=1\n",
    "    while i<=how_many:\n",
    "        emp_id = input(\"Enter Emplooye ID>>\")\n",
    "        emp_name = input(\"Enter Emplooye Name>>\")\n",
    "        emp_salary = input(\"Enter Emplooye Salary>>\")\n",
    "        with open(\"employees.txt\",\"a\") as file:\n",
    "            file.write(f\"{emp_id}, {emp_name}, {emp_salary}\\n\")\n",
    "        print(f\"{Fore.GREEN}Employee added successfully!\\n{Style.RESET_ALL}\")\n",
    "        i+=1\n",
    "\n",
    "def Display():\n",
    "    try:\n",
    "        with open(\"employees.txt\", \"r\") as file:\n",
    "            print(\"Employee ID\\tEmployee Name\\tEmployee Salary\")\n",
    "            print(\"--------------------------------------------------\")\n",
    "            for line in file:\n",
    "                emp_id, emp_name, emp_salary = line.strip().split(',')\n",
    "                print(f\"{emp_id}\\t\\t{emp_name}\\t\\t{emp_salary}\")\n",
    "    except FileNotFoundError:\n",
    "        print(f\"{Fore.RED}No employees found.{Style.RESET_ALL}\")\n",
    "        \n",
    "def Search():\n",
    "    emp_id = input(\"Enter Employee ID to search: \")\n",
    "    try:\n",
    "        with open(\"employees.txt\", \"r\") as file:\n",
    "            for line in file:\n",
    "                current_emp_id, emp_name, emp_salary = line.strip().split(',')\n",
    "                if emp_id == current_emp_id:\n",
    "                    print(f\"Employee found: {emp_name}, Salary: {emp_salary}\")\n",
    "                    return\n",
    "        print(f\"{Fore.RED}Employee not found.{Style.RESET_ALL}\")\n",
    "    except FileNotFoundError:\n",
    "        print(f\"{Fore.RED}No employees found.{Style.RESET_ALL}\")\n",
    "        \n",
    "        \n",
    "def main():\n",
    "    while True:\n",
    "        print(\"Employee Management System\")\n",
    "        print(\"1. Add Employee\")\n",
    "        print(\"2. View Employees\")\n",
    "        print(\"3. Search Employee\")\n",
    "        print(\"4. Exit\")\n",
    "        choice = input(\"Enter your choice (1-4): \")\n",
    "\n",
    "        if choice == '1':\n",
    "            \n",
    "            \n",
    "            Add()\n",
    "        elif choice == '2':\n",
    "            Display()\n",
    "        elif choice == '3':\n",
    "            Search()\n",
    "        elif choice == '4':\n",
    "            print(\"Exiting the Employee Management System. Goodbye!\")\n",
    "            break\n",
    "        else:\n",
    "            print(\"Invalid choice. Please enter a valid option (1-4).\")\n",
    "main()"
   ]
  },
  {
   "cell_type": "code",
   "execution_count": null,
   "id": "62150af2",
   "metadata": {},
   "outputs": [],
   "source": []
  }
 ],
 "metadata": {
  "kernelspec": {
   "display_name": "Python 3 (ipykernel)",
   "language": "python",
   "name": "python3"
  },
  "language_info": {
   "codemirror_mode": {
    "name": "ipython",
    "version": 3
   },
   "file_extension": ".py",
   "mimetype": "text/x-python",
   "name": "python",
   "nbconvert_exporter": "python",
   "pygments_lexer": "ipython3",
   "version": "3.11.7"
  },
  "widgets": {
   "application/vnd.jupyter.widget-state+json": {
    "state": {},
    "version_major": 2,
    "version_minor": 0
   }
  }
 },
 "nbformat": 4,
 "nbformat_minor": 5
}
